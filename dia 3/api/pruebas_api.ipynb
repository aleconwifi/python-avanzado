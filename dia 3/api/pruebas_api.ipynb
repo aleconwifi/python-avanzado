{
  "nbformat": 4,
  "nbformat_minor": 0,
  "metadata": {
    "colab": {
      "provenance": []
    },
    "kernelspec": {
      "name": "python3",
      "display_name": "Python 3"
    },
    "language_info": {
      "name": "python"
    }
  },
  "cells": [
    {
      "cell_type": "code",
      "execution_count": 9,
      "metadata": {
        "id": "cn9vmKBBjwj_"
      },
      "outputs": [],
      "source": [
        "\n",
        "import requests\n",
        "\n",
        "url = \"https://apirest.datacampero.repl.co\"\n"
      ]
    },
    {
      "cell_type": "code",
      "source": [
        "\n",
        "res = requests.get(f\"{url}/tareas\")\n",
        "res.json()"
      ],
      "metadata": {
        "colab": {
          "base_uri": "https://localhost:8080/"
        },
        "id": "Rh-HfISjkTwa",
        "outputId": "2da4d6ba-1d01-4a20-f663-b89147cb89b1"
      },
      "execution_count": 10,
      "outputs": [
        {
          "output_type": "execute_result",
          "data": {
            "text/plain": [
              "{'tareas': [{'description': 'Milk, Cheese, Pizza, Fruit, Tylenol',\n",
              "   'done': False,\n",
              "   'id': 1,\n",
              "   'title': 'Buy groceries'},\n",
              "  {'description': 'Need to find a good Python tutorial on the web',\n",
              "   'done': True,\n",
              "   'id': 2,\n",
              "   'title': 'Learn Python'},\n",
              "  {'description': 'Esto es una tareas nueva',\n",
              "   'done': False,\n",
              "   'id': 3,\n",
              "   'title': 'Tarea nueva'},\n",
              "  {'description': 'Esto es una tareas nueva',\n",
              "   'done': False,\n",
              "   'id': 4,\n",
              "   'title': 'Tarea nueva'}]}"
            ]
          },
          "metadata": {},
          "execution_count": 10
        }
      ]
    },
    {
      "cell_type": "code",
      "source": [
        "res = requests.post(\n",
        "    f\"{url}/tareas\",\n",
        "    json={\"title\": 'Tarea nueva', \"description\": 'Esto es una tareas nueva'},\n",
        ")\n",
        "res.json()"
      ],
      "metadata": {
        "colab": {
          "base_uri": "https://localhost:8080/"
        },
        "id": "Vw40hfKzjxRl",
        "outputId": "9e194322-e1bb-4b63-d1f8-292f13c82647"
      },
      "execution_count": 7,
      "outputs": [
        {
          "output_type": "execute_result",
          "data": {
            "text/plain": [
              "{'tarea': {'description': 'Esto es una tareas nueva',\n",
              "  'done': False,\n",
              "  'id': 4,\n",
              "  'title': 'Tarea nueva'}}"
            ]
          },
          "metadata": {},
          "execution_count": 7
        }
      ]
    },
    {
      "cell_type": "code",
      "source": [
        "res = requests.get(f\"{url}/tareas/3\")\n",
        "res.json()"
      ],
      "metadata": {
        "colab": {
          "base_uri": "https://localhost:8080/"
        },
        "id": "HZzBAVhzkHTO",
        "outputId": "2ea280e5-6f6f-4bf2-d53f-9506e3aca13a"
      },
      "execution_count": 12,
      "outputs": [
        {
          "output_type": "execute_result",
          "data": {
            "text/plain": [
              "{'tarea': {'description': 'Esto es una tareas nueva',\n",
              "  'done': False,\n",
              "  'id': 3,\n",
              "  'title': 'Tarea nueva'}}"
            ]
          },
          "metadata": {},
          "execution_count": 12
        }
      ]
    },
    {
      "cell_type": "code",
      "source": [],
      "metadata": {
        "id": "MFlfvv5dkXPB"
      },
      "execution_count": null,
      "outputs": []
    }
  ]
}