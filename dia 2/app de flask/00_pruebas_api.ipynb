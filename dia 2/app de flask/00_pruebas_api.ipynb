{
  "cells": [
    {
      "cell_type": "markdown",
      "metadata": {
        "id": "1sCRd-hntBhJ"
      },
      "source": [
        "# API\n",
        "\n",
        "![](https://www.academiaweb.ca/wp-content/uploads/2020/07/api-visual.png)"
      ]
    },
    {
      "cell_type": "markdown",
      "metadata": {
        "id": "VC_MYvwStBhK"
      },
      "source": [
        "```python\n",
        "from flask import Flask\n",
        "\n",
        "app = Flask(__name__)\n",
        "app.config[\"PROPAGATE_EXCEPTIONS\"] = True\n",
        "\n",
        "\n",
        "@app.route(\"/ping\")\n",
        "def ping():\n",
        "    return \"pong\"\n",
        "\n",
        "\n",
        "if __name__ == \"__main__\":\n",
        "    app.run(debug=True)\n",
        "```"
      ]
    },
    {
      "cell_type": "markdown",
      "metadata": {
        "id": "wfJmqRsVtBhK"
      },
      "source": [
        "**Métodos:**\n",
        "\n",
        "`GET`: Leer información  \n",
        "`POST`: Subir información"
      ]
    },
    {
      "cell_type": "markdown",
      "metadata": {
        "id": "eHnPhiNFtBhK"
      },
      "source": [
        "https://flask.palletsprojects.com/en/1.1.x/quickstart/"
      ]
    },
    {
      "cell_type": "code",
      "execution_count": 1,
      "metadata": {
        "id": "8QJbTP84tBhL"
      },
      "outputs": [],
      "source": [
        "import requests"
      ]
    },
    {
      "cell_type": "markdown",
      "metadata": {
        "id": "WBj5aoMPtBhL"
      },
      "source": [
        "Cambiad la variable `url` por vuesta url de [repl.it](https://repl.it/)"
      ]
    },
    {
      "cell_type": "code",
      "execution_count": 2,
      "metadata": {
        "id": "dOW1CR97tBhL"
      },
      "outputs": [],
      "source": [
        "from string import ascii_lowercase, printable\n",
        "from random import choice\n",
        "\n",
        "\n",
        "def random_string(string_length=10, fuzz=False, space=False):\n",
        "    \"\"\"Generate a random string of fixed length \"\"\"\n",
        "    letters = ascii_lowercase\n",
        "    letters = letters + \" \" if space else letters\n",
        "    if fuzz:\n",
        "        letters = printable\n",
        "    return \"\".join(choice(letters) for i in range(string_length))\n"
      ]
    },
    {
      "cell_type": "code",
      "execution_count": 3,
      "metadata": {
        "id": "avSB4d0QtBhM"
      },
      "outputs": [],
      "source": [
        "url = \"https://flask.datacampero.repl.co/\""
      ]
    },
    {
      "cell_type": "code",
      "execution_count": 4,
      "metadata": {
        "id": "yMi5WkuZtBhM"
      },
      "outputs": [],
      "source": [
        "data = {\n",
        "        \"id\": 1,\n",
        "         \"title\": \"hola nueva tarea\",\n",
        "         \"description\": \"esto es la descripcion\",\n",
        "    }"
      ]
    },
    {
      "cell_type": "code",
      "execution_count": 5,
      "metadata": {
        "id": "neZg_YRbtBhM"
      },
      "outputs": [],
      "source": [
        "url_1 = \"/api/tarea/<int:id_tarea>\"\n",
        "url_2 = \"/api/tareas\"\n",
        "url_full = f\"{url}/api/tareas/terminada\""
      ]
    },
    {
      "cell_type": "code",
      "execution_count": 8,
      "metadata": {
        "colab": {
          "base_uri": "https://localhost:8080/"
        },
        "id": "nUkXISMstBhM",
        "outputId": "836cc65f-865b-49dd-8783-3cd741b392de"
      },
      "outputs": [
        {
          "output_type": "execute_result",
          "data": {
            "text/plain": [
              "{'tareas': [{'description': 'Milk, Cheese, Pizza, Fruit, Tylenol',\n",
              "   'done': False,\n",
              "   'id': 1,\n",
              "   'title': 'Buy groceries'},\n",
              "  {'description': 'Need to find a good Python tutorial on the web',\n",
              "   'done': False,\n",
              "   'id': 2,\n",
              "   'title': 'Learn Python'}]}"
            ]
          },
          "metadata": {},
          "execution_count": 8
        }
      ],
      "source": [
        "res = requests.get(f\"{url}/lista/api/v1/tareas\")\n",
        "res.raise_for_status()\n",
        "datos = res.json()\n",
        "\n",
        "datos"
      ]
    },
    {
      "cell_type": "code",
      "execution_count": 10,
      "metadata": {
        "colab": {
          "base_uri": "https://localhost:8080/"
        },
        "id": "qNLHeMYMtBhN",
        "outputId": "da43a55a-6f5a-4d9d-96ce-f37742b42f69"
      },
      "outputs": [
        {
          "output_type": "execute_result",
          "data": {
            "text/plain": [
              "{'tareas': [{'description': 'Milk, Cheese, Pizza, Fruit, Tylenol',\n",
              "   'done': False,\n",
              "   'id': 1,\n",
              "   'title': 'Buy groceries'},\n",
              "  {'description': 'Need to find a good Python tutorial on the web',\n",
              "   'done': False,\n",
              "   'id': 2,\n",
              "   'title': 'Learn Python'}]}"
            ]
          },
          "metadata": {},
          "execution_count": 10
        }
      ],
      "source": [
        "res = requests.post(\n",
        "    f\"{url}/lista/api/v1/tareas\",\n",
        "    json={\"title\": random_string(10), \"description\": random_string(30)},\n",
        ")\n",
        "res.raise_for_status()\n",
        "datos = res.json()\n",
        "\n",
        "datos"
      ]
    },
    {
      "cell_type": "code",
      "execution_count": 12,
      "metadata": {
        "colab": {
          "base_uri": "https://localhost:8080/"
        },
        "id": "h7VnBa1GtBhN",
        "outputId": "d3419839-8a01-4841-b836-d8ee98a402ef"
      },
      "outputs": [
        {
          "output_type": "execute_result",
          "data": {
            "text/plain": [
              "{'tarea': {'description': 'Need to find a good Python tutorial on the web',\n",
              "  'done': False,\n",
              "  'id': 2,\n",
              "  'title': 'Learn Python'}}"
            ]
          },
          "metadata": {},
          "execution_count": 12
        }
      ],
      "source": [
        "numero = 2\n",
        "\n",
        "res = requests.get(\n",
        "    f\"{url}/lista/api/v1/tareas/{numero}\",\n",
        "    params={\"action\": \"delete\"},\n",
        ")\n",
        "res.raise_for_status()\n",
        "datos = res.json()\n",
        "\n",
        "datos"
      ]
    },
    {
      "cell_type": "code",
      "execution_count": null,
      "metadata": {
        "id": "j5getBSHtBhO"
      },
      "outputs": [],
      "source": []
    },
    {
      "cell_type": "code",
      "execution_count": null,
      "metadata": {
        "id": "qX0zWqwatBhO"
      },
      "outputs": [],
      "source": []
    },
    {
      "cell_type": "code",
      "execution_count": 13,
      "metadata": {
        "colab": {
          "base_uri": "https://localhost:8080/",
          "height": 187
        },
        "id": "MPisXK2DtBhO",
        "outputId": "1c9de2f1-541f-4137-b4d7-d1630a190748"
      },
      "outputs": [
        {
          "output_type": "error",
          "ename": "KeyError",
          "evalue": "ignored",
          "traceback": [
            "\u001b[0;31m---------------------------------------------------------------------------\u001b[0m",
            "\u001b[0;31mKeyError\u001b[0m                                  Traceback (most recent call last)",
            "\u001b[0;32m<ipython-input-13-06cf5c5e52c2>\u001b[0m in \u001b[0;36m<module>\u001b[0;34m\u001b[0m\n\u001b[0;32m----> 1\u001b[0;31m \u001b[0;32mfor\u001b[0m \u001b[0mt\u001b[0m \u001b[0;32min\u001b[0m \u001b[0mdata\u001b[0m\u001b[0;34m[\u001b[0m\u001b[0;34m\"tareas\"\u001b[0m\u001b[0;34m]\u001b[0m\u001b[0;34m:\u001b[0m\u001b[0;34m\u001b[0m\u001b[0;34m\u001b[0m\u001b[0m\n\u001b[0m\u001b[1;32m      2\u001b[0m     \u001b[0mprint\u001b[0m\u001b[0;34m(\u001b[0m\u001b[0mt\u001b[0m\u001b[0;34m[\u001b[0m\u001b[0;34m\"title\"\u001b[0m\u001b[0;34m]\u001b[0m\u001b[0;34m)\u001b[0m\u001b[0;34m\u001b[0m\u001b[0;34m\u001b[0m\u001b[0m\n",
            "\u001b[0;31mKeyError\u001b[0m: 'tareas'"
          ]
        }
      ],
      "source": [
        "for t in data[\"tareas\"]:\n",
        "    print(t[\"title\"])"
      ]
    },
    {
      "cell_type": "code",
      "execution_count": null,
      "metadata": {
        "id": "mYhPjbxytBhO"
      },
      "outputs": [],
      "source": [
        "url = \"https://neighboringantiqueequation--polyrand.repl.co/lista/api/v1/tareas/1\"\n",
        "\n",
        "res = requests.get(url)\n",
        "\n",
        "# res.raise_for_status()\n",
        "\n",
        "if res.status_code == 404:\n",
        "    print(\"Noooo\")\n",
        "\n",
        "data = res.json()"
      ]
    },
    {
      "cell_type": "code",
      "execution_count": null,
      "metadata": {
        "id": "X1FIx5EwtBhO",
        "outputId": "b5b5f068-d2fc-4e13-a538-b37e2783dda5"
      },
      "outputs": [
        {
          "data": {
            "text/plain": [
              "{'tarea': {'description': 'Milk, Cheese, Pizza, Fruit, Tylenol',\n",
              "  'done': False,\n",
              "  'id': 1,\n",
              "  'title': 'Buy groceries'}}"
            ]
          },
          "execution_count": 6,
          "metadata": {},
          "output_type": "execute_result"
        }
      ],
      "source": [
        "data"
      ]
    },
    {
      "cell_type": "code",
      "execution_count": null,
      "metadata": {
        "id": "f0A_2436tBhO"
      },
      "outputs": [],
      "source": [
        "tasks = [\n",
        "    {\n",
        "        \"id\": 1,\n",
        "        \"title\": u\"Buy groceries\",\n",
        "        \"description\": u\"Milk, Cheese, Pizza, Fruit, Tylenol\",\n",
        "        \"done\": False,\n",
        "    },\n",
        "    {\n",
        "        \"id\": 2,\n",
        "        \"title\": u\"Learn Python\",\n",
        "        \"description\": u\"Need to find a good Python tutorial on the web\",\n",
        "        \"done\": False,\n",
        "    },\n",
        "    {\n",
        "        \"id\": 4,\n",
        "        \"title\": u\"Learn Python\",\n",
        "        \"description\": u\"Need to find a good Python tutorial on the web\",\n",
        "        \"done\": False,\n",
        "    },\n",
        "    {\n",
        "        \"id\": 3,\n",
        "        \"title\": u\"Learn Python\",\n",
        "        \"description\": u\"Need to find a good Python tutorial on the web\",\n",
        "        \"done\": False,\n",
        "    },\n",
        "]"
      ]
    },
    {
      "cell_type": "code",
      "execution_count": null,
      "metadata": {
        "id": "-29MYbTztBhP",
        "outputId": "26cd3df5-e451-4dcc-dc6d-2df915b542b6"
      },
      "outputs": [
        {
          "data": {
            "text/plain": [
              "[{'id': 1,\n",
              "  'title': 'Buy groceries',\n",
              "  'description': 'Milk, Cheese, Pizza, Fruit, Tylenol',\n",
              "  'done': False},\n",
              " {'id': 2,\n",
              "  'title': 'Learn Python',\n",
              "  'description': 'Need to find a good Python tutorial on the web',\n",
              "  'done': False},\n",
              " {'id': 3,\n",
              "  'title': 'Learn Python',\n",
              "  'description': 'Need to find a good Python tutorial on the web',\n",
              "  'done': False},\n",
              " {'id': 4,\n",
              "  'title': 'Learn Python',\n",
              "  'description': 'Need to find a good Python tutorial on the web',\n",
              "  'done': False}]"
            ]
          },
          "execution_count": 13,
          "metadata": {},
          "output_type": "execute_result"
        }
      ],
      "source": [
        "sorted(tasks, key=lambda x: x[\"id\"])"
      ]
    },
    {
      "cell_type": "markdown",
      "metadata": {
        "id": "wRYDmeTstBhP"
      },
      "source": [
        "### POST"
      ]
    },
    {
      "cell_type": "code",
      "execution_count": 14,
      "metadata": {
        "colab": {
          "base_uri": "https://localhost:8080/",
          "height": 133
        },
        "id": "xY7VD4uptBhP",
        "outputId": "e6718020-7ea9-4bb6-e70a-0a1b0ec7f219"
      },
      "outputs": [
        {
          "output_type": "error",
          "ename": "SyntaxError",
          "evalue": "ignored",
          "traceback": [
            "\u001b[0;36m  File \u001b[0;32m\"<ipython-input-14-a3beadd8868b>\"\u001b[0;36m, line \u001b[0;32m3\u001b[0m\n\u001b[0;31m    \"title\": \"probando repl.it\",\u001b[0m\n\u001b[0m          ^\u001b[0m\n\u001b[0;31mSyntaxError\u001b[0m\u001b[0;31m:\u001b[0m invalid syntax\n"
          ]
        }
      ],
      "source": [
        "nueva = {\n",
        "    \"id\": 1\n",
        "    \"title\": \"probando repl.it\",\n",
        "    \"description\": \"flask mola\",\n",
        "}"
      ]
    },
    {
      "cell_type": "code",
      "execution_count": null,
      "metadata": {
        "id": "oFNqYgk4tBhP",
        "outputId": "ba7ee5a2-ca53-4b13-d9cd-20e13c67892a"
      },
      "outputs": [
        {
          "data": {
            "text/plain": [
              "<Response [201]>"
            ]
          },
          "execution_count": 8,
          "metadata": {},
          "output_type": "execute_result"
        }
      ],
      "source": [
        "requests.post(\n",
        "    \"https://neighboringantiqueequation--polyrand.repl.co/lista/api/v1/tareas\",\n",
        "    json=nueva,\n",
        ")"
      ]
    },
    {
      "cell_type": "markdown",
      "metadata": {
        "id": "vEW0BE1qtBhP"
      },
      "source": [
        "### GET"
      ]
    },
    {
      "cell_type": "code",
      "execution_count": null,
      "metadata": {
        "id": "nrM-GndatBhP",
        "outputId": "dc10fc9f-b378-471a-ab0d-2adf8972e540"
      },
      "outputs": [
        {
          "data": {
            "text/plain": [
              "[{'description': 'Milk, Cheese, Pizza, Fruit, Tylenol',\n",
              "  'done': False,\n",
              "  'id': 1,\n",
              "  'title': 'Buy groceries'},\n",
              " {'description': 'Need to find a good Python tutorial on the web',\n",
              "  'done': False,\n",
              "  'id': 2,\n",
              "  'title': 'Learn Python'},\n",
              " {'description': 'flask mola',\n",
              "  'done': False,\n",
              "  'id': 3,\n",
              "  'title': 'probando repl.it'}]"
            ]
          },
          "execution_count": 9,
          "metadata": {},
          "output_type": "execute_result"
        }
      ],
      "source": [
        "url = \"https://neighboringantiqueequation--polyrand.repl.co/lista/api/v1/tareas\"\n",
        "\n",
        "res = requests.get(url)\n",
        "\n",
        "data = res.json()\n",
        "\n",
        "data[\"tareas\"]"
      ]
    },
    {
      "cell_type": "code",
      "execution_count": null,
      "metadata": {
        "id": "0PzKkCF4tBhP"
      },
      "outputs": [],
      "source": []
    }
  ],
  "metadata": {
    "kernelspec": {
      "display_name": "Python 3 (ipykernel)",
      "language": "python",
      "name": "python3"
    },
    "language_info": {
      "codemirror_mode": {
        "name": "ipython",
        "version": 3
      },
      "file_extension": ".py",
      "mimetype": "text/x-python",
      "name": "python",
      "nbconvert_exporter": "python",
      "pygments_lexer": "ipython3",
      "version": "3.9.7"
    },
    "colab": {
      "provenance": []
    }
  },
  "nbformat": 4,
  "nbformat_minor": 0
}