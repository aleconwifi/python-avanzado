{
 "cells": [
  {
   "cell_type": "markdown",
   "metadata": {},
   "source": [
    "<!-- ---------------------------------------------------- -->\n",
    "  <div class=\"col-sm-3 col-md-3 col-lg-3\">\n",
    "\t<!-- logo -->  \n",
    "    <div class=\"img-responsive\">\n",
    "      <img src=\"https://res.cloudinary.com/eventro/image/upload/v1668122125/image001.png\" width=\"500\" title=\"Python Avanzado Grupolotal\" alt=\"Curso Python Avanzado\">    \n",
    "    </div>\n",
    "\t<!-- logo -->\t\n",
    "  </div>\n",
    "<!-- ---------------------------------------------------- --> \n",
    "  <div class=\"col-sm-6 col-md-6 col-lg-6\">\n",
    "\t<!-- Pandas Tutorial -->  \n",
    "\t  <center>\n",
    "\t    <br>\n",
    "        <h1>Dia 2</h1>\n",
    " <h1>Ejercicio 2 Pandas</h1>\n",
    "        <br>\n",
    "        <br>\n",
    "        <strong> Python Avanzado </strong> \n",
    "         <br>\n",
    "        <strong>Alejandro Marcano Van Grieken</strong>\n",
    "\t  </center>\t\n",
    "    <!-- Pandas Tutorial -->\t\n",
    "  </div>\n",
    "<!-- ---------------------------------------------------- -->"
   ]
  },
  {
   "cell_type": "markdown",
   "metadata": {},
   "source": [
    "\n",
    "\n",
    "### Paso 1. Importa las librerías necesarias"
   ]
  },
  {
   "cell_type": "code",
   "execution_count": null,
   "metadata": {},
   "outputs": [],
   "source": []
  },
  {
   "cell_type": "markdown",
   "metadata": {},
   "source": [
    "### Paso 2. Importa el dataset ejercicio.xlsx y guardalo en una varible df_usuarios\n"
   ]
  },
  {
   "cell_type": "code",
   "execution_count": null,
   "metadata": {},
   "outputs": [],
   "source": []
  },
  {
   "cell_type": "markdown",
   "metadata": {},
   "source": [
    "### Paso 3. Convierte el user_id, en el id del dataframe y elimina la columna user_id"
   ]
  },
  {
   "cell_type": "code",
   "execution_count": null,
   "metadata": {
    "scrolled": false
   },
   "outputs": [],
   "source": []
  },
  {
   "cell_type": "markdown",
   "metadata": {},
   "source": [
    "### Paso 4. Cambia los nombres de las columnas a español\n",
    "\n",
    "#### age por edad\n",
    "#### gender por genero\n",
    "#### ocupation por profesion\n",
    "#### zip_code por codigo_postal\n"
   ]
  },
  {
   "cell_type": "code",
   "execution_count": null,
   "metadata": {},
   "outputs": [],
   "source": []
  },
  {
   "cell_type": "markdown",
   "metadata": {},
   "source": [
    "### Paso 5. Muestra en un array todas las profesiones, sin repetirse"
   ]
  },
  {
   "cell_type": "code",
   "execution_count": null,
   "metadata": {},
   "outputs": [],
   "source": []
  },
  {
   "cell_type": "markdown",
   "metadata": {},
   "source": [
    "### Paso 6. Cambiar los nombres de las profesiones a español\n",
    "\n",
    "**NOTA**: Utiliza el siguiente diccionario\n",
    "\n",
    "profesiones_esp = {'technician': 'técnico',\n",
    "'other': 'otro',\n",
    "'writer': 'escritor',\n",
    "'executive': 'ejecutivo',\n",
    "'administrator': 'administrador',\n",
    "'student': 'estudiante',\n",
    "'lawyer': 'abogado',\n",
    "'educator': 'educador',\n",
    "'scientist': 'científico',\n",
    "'entertainment': 'entretenimiento',\n",
    "'programmer': 'programandor',\n",
    "'librarian': 'bibliotecario',\n",
    "'homemaker': 'ama de casa',\n",
    "'artist': 'artista',\n",
    "'engineer': 'ingeniero',\n",
    "'marketing': 'marketing',\n",
    "'none': 'nada',\n",
    "'healthcare': 'salud',\n",
    "'retired' :  'retirado',\n",
    "'salesman' :  'vendedor',\n",
    "'doctor' :  'doctor',\n",
    "}"
   ]
  },
  {
   "cell_type": "code",
   "execution_count": null,
   "metadata": {},
   "outputs": [],
   "source": []
  },
  {
   "cell_type": "markdown",
   "metadata": {},
   "source": [
    "### Paso 7. Revisar si existen valores nulos en alguna columna\n"
   ]
  },
  {
   "cell_type": "code",
   "execution_count": null,
   "metadata": {},
   "outputs": [],
   "source": []
  },
  {
   "cell_type": "markdown",
   "metadata": {},
   "source": [
    " ## Paso 8.  Reemplazar los datos nulos"
   ]
  },
  {
   "cell_type": "markdown",
   "metadata": {},
   "source": [
    "#### 8a. Aplica el método Forward Fill (relleno posterior ) para completar los datos faltantes en df_usuarios"
   ]
  },
  {
   "cell_type": "code",
   "execution_count": null,
   "metadata": {},
   "outputs": [],
   "source": []
  },
  {
   "cell_type": "markdown",
   "metadata": {},
   "source": [
    "#### 8b. Vuelve a verificar que no hay datos nulos"
   ]
  },
  {
   "cell_type": "code",
   "execution_count": null,
   "metadata": {},
   "outputs": [],
   "source": []
  },
  {
   "cell_type": "markdown",
   "metadata": {},
   "source": [
    "### Paso 9.  ¿Cuál es la edad promedio por profesión?"
   ]
  },
  {
   "cell_type": "code",
   "execution_count": null,
   "metadata": {},
   "outputs": [],
   "source": []
  },
  {
   "cell_type": "markdown",
   "metadata": {},
   "source": [
    "### Paso 10. Para cada profesión, calcule las edades mínima y máxima"
   ]
  },
  {
   "cell_type": "code",
   "execution_count": null,
   "metadata": {},
   "outputs": [],
   "source": []
  },
  {
   "cell_type": "markdown",
   "metadata": {},
   "source": [
    "### Paso 11. Calcule la edad promedio para cada sexo y profesión. Mostrarlo en un dataframe y no una serie"
   ]
  },
  {
   "cell_type": "code",
   "execution_count": null,
   "metadata": {},
   "outputs": [],
   "source": []
  },
  {
   "cell_type": "markdown",
   "metadata": {},
   "source": [
    "### Paso 12.  Ordena de mayor a menor las profesiones con mayor demanda."
   ]
  },
  {
   "cell_type": "code",
   "execution_count": null,
   "metadata": {},
   "outputs": [],
   "source": []
  },
  {
   "cell_type": "markdown",
   "metadata": {},
   "source": [
    "### Paso 13.  Descubra la proporción en porcentaje de hombres por profesión y clasifíquela de mayor a menor"
   ]
  },
  {
   "cell_type": "markdown",
   "metadata": {},
   "source": [
    "#### Paso 13a. Crea una funcion que reciba un String y si el String es M regrese el número 1 y si es F regrese 0"
   ]
  },
  {
   "cell_type": "code",
   "execution_count": null,
   "metadata": {},
   "outputs": [],
   "source": []
  },
  {
   "cell_type": "markdown",
   "metadata": {},
   "source": [
    "#### Paso 13b. Cree una nueva columna llamada genero_numero, donde se utilice la funcion anterior con la columna genero"
   ]
  },
  {
   "cell_type": "code",
   "execution_count": null,
   "metadata": {},
   "outputs": [],
   "source": []
  },
  {
   "cell_type": "markdown",
   "metadata": {},
   "source": [
    "#### Paso 13c. Guarde en un nuevo dataframe llamado df_porcentaje_hombres y calcule la suma por genero_numero entre el numero total de cada profesion por 100"
   ]
  },
  {
   "cell_type": "code",
   "execution_count": null,
   "metadata": {},
   "outputs": [],
   "source": []
  },
  {
   "cell_type": "markdown",
   "metadata": {},
   "source": [
    "#### Ordene de mayor a menor el dataframe df_porcentaje_hombres"
   ]
  },
  {
   "cell_type": "code",
   "execution_count": null,
   "metadata": {},
   "outputs": [],
   "source": []
  },
  {
   "cell_type": "markdown",
   "metadata": {},
   "source": [
    "### Paso 14.  Múltiples estadísticas por grupo: Agrupar por profesión y género y calcular las siguientes funciones de agregación:\n",
    "1. Mínimo, Máximo y Suma del salario\n",
    "2. Promedio de la edad\n",
    "3. Primer elemento del código postal y la cantidad"
   ]
  },
  {
   "cell_type": "code",
   "execution_count": null,
   "metadata": {},
   "outputs": [],
   "source": []
  },
  {
   "cell_type": "markdown",
   "metadata": {},
   "source": [
    "###  Paso 15. Múltiples estadísticas por grupo: Agrupar por género y profesión y calcular las siguientes funciones de agregación:\n",
    "1. Suma de todos los salarios\n",
    "2. Función lammda que reste el máximo y mínimo de edad por grupo"
   ]
  },
  {
   "cell_type": "code",
   "execution_count": null,
   "metadata": {},
   "outputs": [],
   "source": []
  },
  {
   "cell_type": "markdown",
   "metadata": {},
   "source": [
    "#### Paso 16a.  Ver Resumen de estadísticas de la edad\n"
   ]
  },
  {
   "cell_type": "code",
   "execution_count": null,
   "metadata": {},
   "outputs": [],
   "source": []
  },
  {
   "cell_type": "markdown",
   "metadata": {},
   "source": [
    "#### Paso 16b. Crear una funcion con condicionales que devuelva un string para los siguientes:\n",
    "1. si la edad se encuentra entre 7 y 18 años retornar 'joven'\n",
    "2. si la edad se encuentra entre 19 y 30 años retornar 'adulto joven'\n",
    "3. si la edad se encuentra entre 31 y 45 años retornar'adulto mayor'\n",
    "4. si es mayor a 50 retornar como 'tercera edad'\n"
   ]
  },
  {
   "cell_type": "code",
   "execution_count": null,
   "metadata": {},
   "outputs": [],
   "source": []
  },
  {
   "cell_type": "markdown",
   "metadata": {},
   "source": [
    "#### Paso 16c. Aplicar la función anterior al dataframe utilizando lambda y apply, creando una nueva columna llamada \"edad_categorias\""
   ]
  },
  {
   "cell_type": "code",
   "execution_count": null,
   "metadata": {},
   "outputs": [],
   "source": []
  },
  {
   "cell_type": "markdown",
   "metadata": {},
   "source": [
    "### Paso 17. ¿Cuántas personas de la tercera edad se encuentran retirados?\n"
   ]
  },
  {
   "cell_type": "code",
   "execution_count": null,
   "metadata": {},
   "outputs": [],
   "source": []
  },
  {
   "cell_type": "markdown",
   "metadata": {},
   "source": [
    "### Paso 18. Agrupar la cantidad por la edad de categoria, genero y profesion, la cantidad de personas que hay\n"
   ]
  },
  {
   "cell_type": "code",
   "execution_count": null,
   "metadata": {},
   "outputs": [],
   "source": []
  },
  {
   "cell_type": "markdown",
   "metadata": {},
   "source": [
    "### Paso 19. Borra la columna Código postal de df_usuarios"
   ]
  },
  {
   "cell_type": "code",
   "execution_count": null,
   "metadata": {},
   "outputs": [],
   "source": []
  },
  {
   "cell_type": "markdown",
   "metadata": {},
   "source": [
    "### Paso 20. Exporta el dataframe final en un archivo excel llamado datos_procesados.xlsx sin incluir los índices del dataframe"
   ]
  },
  {
   "cell_type": "code",
   "execution_count": null,
   "metadata": {},
   "outputs": [],
   "source": []
  }
 ],
 "metadata": {
  "anaconda-cloud": {},
  "kernelspec": {
   "display_name": "Python 3 (ipykernel)",
   "language": "python",
   "name": "python3"
  },
  "language_info": {
   "codemirror_mode": {
    "name": "ipython",
    "version": 3
   },
   "file_extension": ".py",
   "mimetype": "text/x-python",
   "name": "python",
   "nbconvert_exporter": "python",
   "pygments_lexer": "ipython3",
   "version": "3.9.7"
  },
  "vscode": {
   "interpreter": {
    "hash": "b0fa6594d8f4cbf19f97940f81e996739fb7646882a419484c72d19e05852a7e"
   }
  }
 },
 "nbformat": 4,
 "nbformat_minor": 1
}
